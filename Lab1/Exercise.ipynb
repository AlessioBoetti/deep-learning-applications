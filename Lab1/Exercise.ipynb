{
 "cells": [
  {
   "attachments": {},
   "cell_type": "markdown",
   "metadata": {},
   "source": [
    "# Laboratorio 1"
   ]
  },
  {
   "attachments": {},
   "cell_type": "markdown",
   "metadata": {},
   "source": [
    "## Libraries"
   ]
  },
  {
   "cell_type": "code",
   "execution_count": null,
   "metadata": {},
   "outputs": [],
   "source": [
    "import torch\n",
    "import torch.nn as nn\n",
    "import sys\n",
    "import wandb\n",
    "from tqdm import tqdm\n",
    "\n",
    "from model import ConvolutionalNeuralNetworks\n",
    "from utils import (get_loaders, save_checkpoint, load_checkpoint, \n",
    "                   load_best_model, metrics, eval_fn, \n",
    "                   create_directory_if_does_not_exist, EarlyStopping, Lion)\n"
   ]
  },
  {
   "attachments": {},
   "cell_type": "markdown",
   "metadata": {},
   "source": [
    "## Functions"
   ]
  },
  {
   "attachments": {},
   "cell_type": "markdown",
   "metadata": {},
   "source": [
    "## Models"
   ]
  },
  {
   "cell_type": "code",
   "execution_count": null,
   "metadata": {},
   "outputs": [],
   "source": [
    "class FirstConvLayer(nn.Module):\n",
    "    def __init__(self, in_channels, out_channels, kernel_size):\n",
    "        super(FirstConvLayer, self).__init__()\n",
    "        self.sequential = nn.Sequential(\n",
    "            nn.Conv2d(in_channels, out_channels, kernel_size))\n",
    "\n",
    "    def forward(self, x):\n",
    "        return self.sequential(x)\n",
    "\n",
    "\n",
    "class ConvolutionalBlock(nn.Module):\n",
    "    def __init__(self, in_channels, out_channels, want_shortcut, downsample, last_layer, pool_type):\n",
    "        super(ConvolutionalBlock, self).__init__()\n",
    "\n",
    "        self.want_shortcut = want_shortcut\n",
    "        if self.want_shortcut:\n",
    "            self.shortcut == nn.Sequential(\n",
    "                nn.Conv2d(in_channels, out_channels,\n",
    "                          kernel_size=1, stride=2, bias=False),\n",
    "                nn.BatchNorm2d(out_channels)\n",
    "            )\n",
    "\n",
    "        self.sequential = nn.Sequential(\n",
    "            nn.BatchNorm2d(in_channels),\n",
    "            nn.ReLu(),\n",
    "            nn.Conv2d(in_channels=in_channels, out_channels=out_channels,\n",
    "                      kernel_size=3, padding='same', bias=False),\n",
    "            nn.BatchNorm2d(out_channels),\n",
    "            nn.ReLu()\n",
    "        )\n",
    "\n",
    "        self.conv1 = nn.Conv2d(in_channels=in_channels, out_channels=out_channels,\n",
    "                               kernel_size=3, stride=1, padding=1, bias=False)\n",
    "\n",
    "        if downsample:\n",
    "            if last_layer:\n",
    "                self.want_shortcut = False\n",
    "                self.sequential.append(nn.AdaptiveMaxPool2d(2))\n",
    "            else:\n",
    "                if pool_type == 'convolution':\n",
    "                    self.conv1 = nn.Conv2d(\n",
    "                        in_channels=in_channels, out_channels=in_channels, kernel_size=3, stride=2, padding=1, bias=False)\n",
    "                elif pool_type == 'kmax':\n",
    "                    channels = [64, 128, 256, 512]\n",
    "                    dimension = [511, 256, 128]\n",
    "                    index = channels.index(in_channels)\n",
    "                    self.sequential.append(\n",
    "                        nn.AdaptiveMaxPool2d(dimension[index]))\n",
    "                else:\n",
    "                    self.sequential.append(nn.MaxPool2d(\n",
    "                        kernel_size=3, stride=2, padding=1))\n",
    "\n",
    "        self.relu = nn.ReLu()\n",
    "\n",
    "    def forward(self, x):\n",
    "        if self.want_shortcut:\n",
    "            short = x\n",
    "            out = self.conv1(x)\n",
    "            out = self.sequential(out)\n",
    "            if out.shape != short.shape:\n",
    "                short = self.shortcut(short)\n",
    "            out = self.relu(short + out)\n",
    "            return out\n",
    "        else:\n",
    "            out = self.conv1(x)\n",
    "            return self.sequential(out)\n",
    "\n",
    "\n",
    "class FullyConnectedBlock(nn.Module):\n",
    "    def __init__(self, n_class):\n",
    "        super(FullyConnectedBlock, self).__init__()\n",
    "        self.sequential = nn.Sequential(\n",
    "            nn.Linear(2048, 1024),\n",
    "            nn.ReLu(),\n",
    "            nn.Linear(1024, 1024),\n",
    "            nn.ReLu(),\n",
    "            nn.Linear(1024, n_class),\n",
    "            # nn.Softmax(dim=1)\n",
    "        )\n",
    "\n",
    "    def forward(self, x):\n",
    "        return self.sequential(x)\n"
   ]
  }
 ],
 "metadata": {
  "kernelspec": {
   "display_name": ".DLA",
   "language": "python",
   "name": "python3"
  },
  "language_info": {
   "codemirror_mode": {
    "name": "ipython",
    "version": 3
   },
   "file_extension": ".py",
   "mimetype": "text/x-python",
   "name": "python",
   "nbconvert_exporter": "python",
   "pygments_lexer": "ipython3",
   "version": "3.11.2"
  },
  "orig_nbformat": 4
 },
 "nbformat": 4,
 "nbformat_minor": 2
}
